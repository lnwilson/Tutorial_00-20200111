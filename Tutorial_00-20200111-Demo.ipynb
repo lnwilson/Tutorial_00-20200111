{
 "cells": [
  {
   "cell_type": "markdown",
   "metadata": {},
   "source": [
    "# Tutorial 0: Demo Jupyter Notebook #\n"
   ]
  },
  {
   "cell_type": "markdown",
   "metadata": {},
   "source": [
    "## Objectives: ##\n",
    "To learn the basics of using jupyter notebooks via videos using this demo jupyter notebook."
   ]
  },
  {
   "cell_type": "markdown",
   "metadata": {},
   "source": [
    "## Instructions: ##\n",
    "Watch the videos."
   ]
  },
  {
   "cell_type": "markdown",
   "metadata": {},
   "source": [
    "## Formulae: ##\n",
    "No formulae are needed for this exercise.\n",
    "\n",
    "For demo purposes here is what a couple of meaningless formulae:\n",
    "$$\\tau = \\sqrt{4^2 -7}$$\n",
    "$$\\xi = 4 \\pm \\sqrt{(10 + 5*8 - 6)/7}$$"
   ]
  },
  {
   "cell_type": "markdown",
   "metadata": {},
   "source": [
    "## Tools: ##"
   ]
  },
  {
   "cell_type": "code",
   "execution_count": 37,
   "metadata": {},
   "outputs": [],
   "source": [
    "source(\"https://www.openintro.org/data/R/email.R\")\n",
    "helium <- read.csv(\"helium.csv\",header=TRUE)"
   ]
  },
  {
   "cell_type": "markdown",
   "metadata": {},
   "source": [
    "## Data Information: ##\n",
    "\n",
    "### Data Set 1: ###\n",
    "These data represent incoming emails for the first three months of 2012 for an email account.\n",
    "#### Name: #### \n",
    "* `email` - this data has 21 variables\n",
    "\n",
    "#### Variables: ####\n",
    "* `spam` Indicator for whether the email was spam.\n",
    "* `to_multiple` Indicator for whether the email was addressed to more than one recipient.\n",
    "* `from` Whether the message was listed as from anyone (this is usually set by default for regular outgoing email).\n",
    "* `cc` Indicator for whether anyone was CCed.\n",
    "* `sent_email` Indicator for whether the sender had been sent an email in the last 30 days.\n",
    "* `time` Time at which email was sent.\n",
    "* `image` The number of images attached.\n",
    "* `attach` The number of attached files.\n",
    "* `dollar` The number of times a dollar sign or the word “dollar” appeared in the email.\n",
    "* `winner` Indicates whether “winner” appeared in the email.\n",
    "* `inherit` The number of times “inherit” (or an extension, such as “inheritance”) appeared in the email.\n",
    "* `viagra` The number of times “viagra” appeared in the email.\n",
    "* `password` The number of times “password” appeared in the email.\n",
    "* `num_char` The number of characters in the email, in thousands.\n",
    "* `line_breaks` The number of line breaks in the email (does not count text wrapping).\n",
    "* `format` Indicates whether the email was written using HTML (e.g. may have included bolding or active links).\n",
    "* `re_subj` Whether the subject started with “Re:”, “RE:”, “re:”, or “rE:”\n",
    "* `exclaim_subj` Whether there was an exclamation point in the subject.\n",
    "* `urgent_subj` Whether the word “urgent” was in the email subject.\n",
    "* `exclaim_mess` The number of exclamation points in the email message.\n",
    "* `number` Factor variable saying whether there was no number, a small number (under 1 million), or a big number\n",
    "\n",
    "### Data Set 2: ###\n",
    "At the 1976 Pro Bowl, Ray Guy, a punter for the Oakland Raiders, punted a ball that hung mid-air\n",
    "long enough for officials to question whether the pigskin was filled with helium. The ball was found\n",
    "to be filled with air, but since then many have tossed around the idea that a helium-filled football\n",
    "would outdistance an air-filled one. Students at Ohio State University conducted an experiment to\n",
    "test this myth. They used two identical footballs, one air filled with air and one filled with helium.\n",
    "Each football was kicked 39 times and the two footballs were alternated with each kick.\n",
    "#### Name: #### \n",
    "* `helium` - results of an experiment comparing helium filled football with an air filled football\n",
    "\n",
    "#### Variables: ####\n",
    "* `trial` - Trial number.\n",
    "* `air` - Distance in yards for air-filled football.\n",
    "* `helium` - Distance in yards for helium-filled football."
   ]
  },
  {
   "cell_type": "markdown",
   "metadata": {},
   "source": [
    "## Question 1. Markdown cells vs. Code cells ##"
   ]
  },
  {
   "cell_type": "markdown",
   "metadata": {},
   "source": [
    "### a. Markdown Cells ###\n",
    "* A markdown cell is where you write about your answers.  \n",
    "* You can edit it by double clicking, or pressing enter.\n",
    "* You can make it look nice again by pressing shift + enter.\n",
    "* You can edit the text in this box by double clicking and typing.\n",
    "* NOTE: There are a variety of methods to make your text look nice, but for our purposes plain text is fine. **\n",
    "\n",
    "Try typing in the Markdown cell below the title Answer 1a."
   ]
  },
  {
   "cell_type": "markdown",
   "metadata": {},
   "source": [
    "### Answer 1a. ##"
   ]
  },
  {
   "cell_type": "markdown",
   "metadata": {},
   "source": [
    "This is a markdown cell."
   ]
  },
  {
   "cell_type": "markdown",
   "metadata": {},
   "source": [
    "\n",
    "### b. Code Cells  ###\n",
    "\n",
    "Below are three code cells.  \n",
    "\n",
    "Code cells are where we will use R to compute statistics or produce plots.  Or as I have done here do some simple arithmetic.\n",
    "\n",
    "You can double click on a code cell to edit it.\n",
    "\n",
    "Use shift + enter will run the code.\n",
    "\n",
    "You can add additional blocks below the current block by clicking on the `+` in the toolbar at the top of this window. Alternately, you can use the Insert menu to add blocks.\n",
    "\n",
    "* Run the code in the first two cells.\n",
    "* In the third code block use the `sqrt(` &lt;arithmetic statement&gt; `)` to find the value for $\\tau$ as shown in the Formulae section above.\n",
    "* Create a fourth code block then use the `sqrt(` &lt;arithmetic statement&gt; `)` to find the value for $\\xi$ as shown in the Formulae section above."
   ]
  },
  {
   "cell_type": "markdown",
   "metadata": {},
   "source": [
    "### Answer 1b."
   ]
  },
  {
   "cell_type": "code",
   "execution_count": null,
   "metadata": {},
   "outputs": [],
   "source": [
    "3+6/2"
   ]
  },
  {
   "cell_type": "code",
   "execution_count": null,
   "metadata": {},
   "outputs": [],
   "source": [
    "(6-2)^3"
   ]
  },
  {
   "cell_type": "markdown",
   "metadata": {},
   "source": [
    "## Question 2. Loading data ##"
   ]
  },
  {
   "cell_type": "markdown",
   "metadata": {},
   "source": [
    "Under the tools section above are the commands to load data.\n",
    "\n",
    "* Load the data by running the code in the code block below the tools title.\n",
    "* When you run the code block the data will be loaded. this is a background process, nothing will appear on the notebook. You can think of it as the code being recorded on the back of the notebook page.\n",
    "\n",
    "To see what data has been loaded enter the name of the data set in the code blocks below.\n"
   ]
  },
  {
   "cell_type": "markdown",
   "metadata": {},
   "source": [
    "## Answer 2."
   ]
  },
  {
   "cell_type": "code",
   "execution_count": null,
   "metadata": {},
   "outputs": [],
   "source": []
  },
  {
   "cell_type": "code",
   "execution_count": null,
   "metadata": {},
   "outputs": [],
   "source": []
  },
  {
   "cell_type": "markdown",
   "metadata": {},
   "source": [
    "## Question 3: Displaying information about a data set"
   ]
  },
  {
   "cell_type": "markdown",
   "metadata": {},
   "source": [
    "There are several simple commands that can be used to display the data set or things about the data set.\n",
    "* a. Use the `name(` &lt;dataName&gt; `)` to display the names of the variables in the data set.\n",
    "* b. Use the `dim(` &lt;dataName&gt; `)` to display the dimensions of each data set, that is how many rows and columns are in each data set.\n",
    "* c. Use the `head(` &lt;dataName&gt; `)` to display the first six lines of each data set.\n",
    "* d. Use the `tail(` &lt;dataName&gt; `)` to display the last six lines of each data set."
   ]
  },
  {
   "cell_type": "markdown",
   "metadata": {},
   "source": [
    "## Answer 3a. ##"
   ]
  },
  {
   "cell_type": "code",
   "execution_count": null,
   "metadata": {},
   "outputs": [],
   "source": [
    "Type code in this block."
   ]
  },
  {
   "cell_type": "markdown",
   "metadata": {},
   "source": [
    "## Answer 3b. ##"
   ]
  },
  {
   "cell_type": "code",
   "execution_count": null,
   "metadata": {},
   "outputs": [],
   "source": [
    "Type code in this block."
   ]
  },
  {
   "cell_type": "markdown",
   "metadata": {},
   "source": [
    "## Answer 3c."
   ]
  },
  {
   "cell_type": "code",
   "execution_count": null,
   "metadata": {},
   "outputs": [],
   "source": [
    "Type code in this block."
   ]
  },
  {
   "cell_type": "markdown",
   "metadata": {},
   "source": [
    "## Answer 3d."
   ]
  },
  {
   "cell_type": "code",
   "execution_count": null,
   "metadata": {},
   "outputs": [],
   "source": [
    "Type your answer in this block."
   ]
  },
  {
   "cell_type": "markdown",
   "metadata": {},
   "source": [
    "## Question 4. Displaying information about a variable ##\n"
   ]
  },
  {
   "cell_type": "markdown",
   "metadata": {},
   "source": [
    "To display information about a variable from a data set you need to indicate where the variable can be found. \n",
    "\n",
    "The format is &lt;dataName&gt;\\$&lt;varName&gt;.\n",
    "\n",
    "* a. Use the commands `min(`&lt;dataName&gt;\\$&lt;varName&gt;`)` to determine the minimum of one the variables in both data sets.\n",
    "\n",
    "* b. Use the command `max(`&lt;dataName&gt;\\$&lt;varName&gt;`)` to determine the minimum of the same variables."
   ]
  },
  {
   "cell_type": "markdown",
   "metadata": {},
   "source": [
    "## Answer 4a."
   ]
  },
  {
   "cell_type": "code",
   "execution_count": null,
   "metadata": {},
   "outputs": [],
   "source": [
    "Type code in this block."
   ]
  },
  {
   "cell_type": "markdown",
   "metadata": {},
   "source": [
    "Type your answer in this block."
   ]
  },
  {
   "cell_type": "markdown",
   "metadata": {},
   "source": [
    "## Answer 4b."
   ]
  },
  {
   "cell_type": "code",
   "execution_count": null,
   "metadata": {},
   "outputs": [],
   "source": [
    "Type code in this block."
   ]
  },
  {
   "cell_type": "markdown",
   "metadata": {},
   "source": [
    "Type your answer in this block."
   ]
  },
  {
   "cell_type": "markdown",
   "metadata": {},
   "source": [
    "## Question 5. Making a new variable\n",
    "    \n",
    "    "
   ]
  },
  {
   "cell_type": "markdown",
   "metadata": {},
   "source": [
    "We can create a new object and name it using the assignment operator which is typed $$<-$$\n",
    "The formula for converting a distance from yards to meters is $$distanceInMeters = \\dfrac{distanceInYards * 3 * 12 * 2.54}{100}$$.\n",
    "* a. Use the formula above to create two new variables, `air_meters` and `helium_meters`.\n",
    "* b. Determine the minimum and maximum of the variables you just created."
   ]
  },
  {
   "cell_type": "markdown",
   "metadata": {},
   "source": [
    "## Answer 5a."
   ]
  },
  {
   "cell_type": "code",
   "execution_count": null,
   "metadata": {},
   "outputs": [],
   "source": [
    "Type code in this block."
   ]
  },
  {
   "cell_type": "markdown",
   "metadata": {},
   "source": [
    "## Answer 5b."
   ]
  },
  {
   "cell_type": "code",
   "execution_count": null,
   "metadata": {},
   "outputs": [],
   "source": [
    "Type code in this block."
   ]
  },
  {
   "cell_type": "markdown",
   "metadata": {},
   "source": [
    "## Question 6. ##\n",
    "There are several ways to get help if you cannot recall how to use a command but to shield you from the over-kill of help files we have provided a document on your moodle page called \"R commands you should know ... so far\".\n",
    "\n",
    "This document will only show the commands and command options that you need for this class.\n",
    "\n",
    "* a. Look up the `which.max` command and determine how to use it.\n",
    "* b. Use the `which.max` command to determine which email was recieved first, the one with the maximum number of mentions of the word viagra or the one with the maximum number of mentions of inheritance. Explain your results in a sentence.\n",
    "* c. Now that you know how `which.max` works can you use `which.min` to determine if the minimum distance for the helium and air filled footballs occured on the same trial. Explain your results in a sentence."
   ]
  },
  {
   "cell_type": "markdown",
   "metadata": {},
   "source": [
    "## Answer 6a."
   ]
  },
  {
   "cell_type": "code",
   "execution_count": null,
   "metadata": {},
   "outputs": [],
   "source": []
  },
  {
   "cell_type": "markdown",
   "metadata": {},
   "source": [
    "## Answer 6b."
   ]
  },
  {
   "cell_type": "code",
   "execution_count": null,
   "metadata": {},
   "outputs": [],
   "source": []
  },
  {
   "cell_type": "markdown",
   "metadata": {},
   "source": []
  },
  {
   "cell_type": "markdown",
   "metadata": {},
   "source": [
    "## Answer 6c."
   ]
  },
  {
   "cell_type": "code",
   "execution_count": null,
   "metadata": {},
   "outputs": [],
   "source": []
  },
  {
   "cell_type": "markdown",
   "metadata": {},
   "source": []
  },
  {
   "cell_type": "markdown",
   "metadata": {},
   "source": [
    "---\n",
    "---\n",
    "#### This tutorial is released under a Creative Commons Attribution-ShareAlike 3.0 Unported.\n",
    "\n",
    "This tutorial has been adapted from a lab that  was adapted for OpenIntro by Andrew Bray and Mine Çetinkaya-Rundel from a lab written by Mark Hansen of UCLA Statistics.\n",
    "\n",
    "---\n",
    "---"
   ]
  }
 ],
 "metadata": {
  "kernelspec": {
   "display_name": "R",
   "language": "R",
   "name": "ir"
  },
  "language_info": {
   "codemirror_mode": "r",
   "file_extension": ".r",
   "mimetype": "text/x-r-source",
   "name": "R",
   "pygments_lexer": "r",
   "version": "3.6.1"
  }
 },
 "nbformat": 4,
 "nbformat_minor": 2
}
